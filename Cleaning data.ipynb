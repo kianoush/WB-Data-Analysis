{
 "cells": [
  {
   "cell_type": "code",
   "execution_count": 1,
   "id": "d8dcce1a",
   "metadata": {},
   "outputs": [],
   "source": [
    "%matplotlib inline\n",
    "\n",
    "import pickle\n",
    "import numpy as np \n",
    "import pandas as pd\n",
    "import matplotlib.pyplot as plt"
   ]
  },
  {
   "cell_type": "code",
   "execution_count": 2,
   "id": "6e0a0b5b",
   "metadata": {},
   "outputs": [],
   "source": [
    "df = pd.read_csv(\"WB_data.csv\")\n",
    "#df.head(1)"
   ]
  },
  {
   "cell_type": "code",
   "execution_count": 3,
   "id": "803e63b6",
   "metadata": {},
   "outputs": [],
   "source": [
    "#df.head().T"
   ]
  },
  {
   "cell_type": "code",
   "execution_count": 4,
   "id": "ea0652f1",
   "metadata": {},
   "outputs": [],
   "source": [
    "df = df.drop('Unnamed: 0', axis=1)\n",
    "#df.head()"
   ]
  },
  {
   "cell_type": "markdown",
   "id": "35dc719a",
   "metadata": {},
   "source": [
    "### Clean the release date and separate the first release with other ones"
   ]
  },
  {
   "cell_type": "code",
   "execution_count": 6,
   "id": "ce8f50c3",
   "metadata": {},
   "outputs": [
    {
     "data": {
      "text/plain": [
       "\"['March 10, 1918 (New York City premiere)', 'April 29, 1918 (general)']\""
      ]
     },
     "execution_count": 6,
     "metadata": {},
     "output_type": "execute_result"
    }
   ],
   "source": [
    "df['Release date'][0]"
   ]
  },
  {
   "cell_type": "code",
   "execution_count": 7,
   "id": "203c13f2",
   "metadata": {},
   "outputs": [],
   "source": [
    "df['Release date'] = df['Release date'].fillna('NaN')"
   ]
  },
  {
   "cell_type": "code",
   "execution_count": 8,
   "id": "7ef88135",
   "metadata": {},
   "outputs": [],
   "source": [
    "def clean_name(x):\n",
    "    name = x.split('(')\n",
    "    name = name[0].replace(\"[\", '')\n",
    "    name = name.replace(\"'\", '')\n",
    "    name = name.replace(\"]\", '')\n",
    "    name = name.replace('\"', '')\n",
    "    name = name.replace('\\xa0', ' ')\n",
    "    name = name.replace('U.S.', '')\n",
    "    name = name.replace('US', '')\n",
    "    name = name.replace('-', ' ')\n",
    "    return name.strip(\" \")\n",
    "\n",
    "df['First_release_date'] = df['Release date'].apply(lambda x: clean_name(x))"
   ]
  },
  {
   "cell_type": "code",
   "execution_count": 10,
   "id": "56e27a32",
   "metadata": {},
   "outputs": [],
   "source": [
    "def fine_date(x):\n",
    "    x = x.replace('\\\\xa0', ' ')\n",
    "    #print(x)\n",
    "    if x.split(','):\n",
    "        first_releas_date = x.split(',')\n",
    "        if len(first_releas_date)>1:           \n",
    "            return(first_releas_date[0]+first_releas_date[1]).strip(\" \")\n",
    "        else:\n",
    "            return x\n",
    "    else:\n",
    "        return x\n",
    "\n",
    "df['First_release_date'] = df['First_release_date'].apply(lambda x: fine_date(x))"
   ]
  },
  {
   "cell_type": "code",
   "execution_count": 12,
   "id": "5e8ab63b",
   "metadata": {},
   "outputs": [
    {
     "data": {
      "text/plain": [
       "(array([224], dtype=int64),)"
      ]
     },
     "execution_count": 12,
     "metadata": {},
     "output_type": "execute_result"
    }
   ],
   "source": [
    "np.where(df['First_release_date']=='May 1929 March 1930', )"
   ]
  },
  {
   "cell_type": "code",
   "execution_count": 13,
   "id": "25a9ffe3",
   "metadata": {},
   "outputs": [
    {
     "name": "stdout",
     "output_type": "stream",
     "text": [
      "Yes 224\n"
     ]
    }
   ],
   "source": [
    "for n, i in enumerate (df['First_release_date']):\n",
    "    if i == 'May 1929 March 1930':\n",
    "        print(\"Yes\", n)"
   ]
  },
  {
   "cell_type": "code",
   "execution_count": 14,
   "id": "c74ce45b",
   "metadata": {
    "scrolled": false
   },
   "outputs": [
    {
     "data": {
      "text/plain": [
       "224    May 1929 March 1930\n",
       "Name: First_release_date, dtype: object"
      ]
     },
     "execution_count": 14,
     "metadata": {},
     "output_type": "execute_result"
    }
   ],
   "source": [
    " df.First_release_date[224:225]"
   ]
  },
  {
   "cell_type": "code",
   "execution_count": 15,
   "id": "079fa95d",
   "metadata": {},
   "outputs": [
    {
     "name": "stderr",
     "output_type": "stream",
     "text": [
      "<ipython-input-15-f54356d40b9f>:1: SettingWithCopyWarning: \n",
      "A value is trying to be set on a copy of a slice from a DataFrame\n",
      "\n",
      "See the caveats in the documentation: https://pandas.pydata.org/pandas-docs/stable/user_guide/indexing.html#returning-a-view-versus-a-copy\n",
      "  df.First_release_date[224:225]= 'May 1929'\n"
     ]
    }
   ],
   "source": [
    " df.First_release_date[224:225]= 'May 1929'"
   ]
  },
  {
   "cell_type": "code",
   "execution_count": 16,
   "id": "7dd264f8",
   "metadata": {},
   "outputs": [
    {
     "data": {
      "text/plain": [
       "(array([621], dtype=int64),)"
      ]
     },
     "execution_count": 16,
     "metadata": {},
     "output_type": "execute_result"
    }
   ],
   "source": [
    "np.where(df['First_release_date']=='January 18 19136', )"
   ]
  },
  {
   "cell_type": "code",
   "execution_count": 17,
   "id": "f2f35bd6",
   "metadata": {},
   "outputs": [
    {
     "name": "stderr",
     "output_type": "stream",
     "text": [
      "<ipython-input-17-9742f246e75d>:1: SettingWithCopyWarning: \n",
      "A value is trying to be set on a copy of a slice from a DataFrame\n",
      "\n",
      "See the caveats in the documentation: https://pandas.pydata.org/pandas-docs/stable/user_guide/indexing.html#returning-a-view-versus-a-copy\n",
      "  df.First_release_date[621:622]= 'January 18 1936'\n"
     ]
    }
   ],
   "source": [
    "df.First_release_date[621:622]= 'January 18 1936'"
   ]
  },
  {
   "cell_type": "code",
   "execution_count": 18,
   "id": "e5ea79b8",
   "metadata": {
    "scrolled": true
   },
   "outputs": [
    {
     "data": {
      "text/plain": [
       "621    January 18 1936\n",
       "Name: First_release_date, dtype: object"
      ]
     },
     "execution_count": 18,
     "metadata": {},
     "output_type": "execute_result"
    }
   ],
   "source": [
    " df.First_release_date[621:622]"
   ]
  },
  {
   "cell_type": "code",
   "execution_count": 19,
   "id": "a48c358b",
   "metadata": {
    "scrolled": true
   },
   "outputs": [
    {
     "data": {
      "text/plain": [
       "(array([], dtype=int64),)"
      ]
     },
     "execution_count": 19,
     "metadata": {},
     "output_type": "execute_result"
    }
   ],
   "source": [
    "np.where(df['First_release_date']=='May 28', )"
   ]
  },
  {
   "cell_type": "code",
   "execution_count": 20,
   "id": "cdb1d0ad",
   "metadata": {},
   "outputs": [
    {
     "name": "stderr",
     "output_type": "stream",
     "text": [
      "<ipython-input-20-e2b33503fbab>:1: SettingWithCopyWarning: \n",
      "A value is trying to be set on a copy of a slice from a DataFrame\n",
      "\n",
      "See the caveats in the documentation: https://pandas.pydata.org/pandas-docs/stable/user_guide/indexing.html#returning-a-view-versus-a-copy\n",
      "  df.First_release_date[190:191] = 'May 1928'\n"
     ]
    }
   ],
   "source": [
    "df.First_release_date[190:191] = 'May 1928'"
   ]
  },
  {
   "cell_type": "code",
   "execution_count": 21,
   "id": "6837f8e8",
   "metadata": {},
   "outputs": [
    {
     "name": "stderr",
     "output_type": "stream",
     "text": [
      "<ipython-input-21-400a61b0b7b3>:22: SettingWithCopyWarning: \n",
      "A value is trying to be set on a copy of a slice from a DataFrame.\n",
      "Try using .loc[row_indexer,col_indexer] = value instead\n",
      "\n",
      "See the caveats in the documentation: https://pandas.pydata.org/pandas-docs/stable/user_guide/indexing.html#returning-a-view-versus-a-copy\n",
      "  df_under_2000['First_release_date'] = df_under_2000['First_release_date'].apply(lambda x :change_year01(x, 'df_under_2000'))\n",
      "<ipython-input-21-400a61b0b7b3>:24: SettingWithCopyWarning: \n",
      "A value is trying to be set on a copy of a slice from a DataFrame.\n",
      "Try using .loc[row_indexer,col_indexer] = value instead\n",
      "\n",
      "See the caveats in the documentation: https://pandas.pydata.org/pandas-docs/stable/user_guide/indexing.html#returning-a-view-versus-a-copy\n",
      "  df_above_2000['First_release_date'] = df_above_2000['First_release_date'].apply(lambda x :change_year01(x, 'df_above_2000'))\n"
     ]
    }
   ],
   "source": [
    "\n",
    "def change_year01(x, y):\n",
    "    if y=='df_under_2000':\n",
    "        date = x.split(' ')\n",
    "        if len(date) >= 3 and len(date[2])<=2:\n",
    "            date = date[0]+' '+date[1]+\" \"+\"19\"+date[2]\n",
    "            #print(date)\n",
    "            return date\n",
    "        else:\n",
    "            return x\n",
    "    else:\n",
    "        date = x.split(' ')\n",
    "        if len(date) >= 3 and len(date[2])<=2:\n",
    "            date = date[0]+' '+date[1]+\" \"+\"20\"+date[2]\n",
    "            #print(date)\n",
    "            return date\n",
    "        else:\n",
    "            return x\n",
    "\n",
    "df_under_2000 = df[:2190]\n",
    "df_above_2000 = df[2190:]\n",
    "    \n",
    "df_under_2000['First_release_date'] = df_under_2000['First_release_date'].apply(lambda x :change_year01(x, 'df_under_2000'))\n",
    "#print('--'*10)\n",
    "df_above_2000['First_release_date'] = df_above_2000['First_release_date'].apply(lambda x :change_year01(x, 'df_above_2000'))\n",
    "\n",
    "df = pd.concat([df_under_2000, df_above_2000] )\n",
    "#df"
   ]
  },
  {
   "cell_type": "code",
   "execution_count": 22,
   "id": "e7175f5a",
   "metadata": {},
   "outputs": [],
   "source": [
    "#df['First_release_date'].min()"
   ]
  },
  {
   "cell_type": "code",
   "execution_count": 23,
   "id": "a22f9d08",
   "metadata": {},
   "outputs": [],
   "source": [
    "#df['First_release_date']"
   ]
  },
  {
   "cell_type": "code",
   "execution_count": 24,
   "id": "b97f7e72",
   "metadata": {
    "scrolled": true
   },
   "outputs": [],
   "source": [
    "def to_datetime(x):\n",
    "\n",
    "    try:\n",
    "        return pd.to_datetime(x)\n",
    "    except:\n",
    "        print(x)\n",
    "        pass\n",
    "\n",
    "df['First_release_date'] = df['First_release_date'].apply(lambda x: to_datetime(x))"
   ]
  },
  {
   "cell_type": "code",
   "execution_count": 26,
   "id": "0ca70d59",
   "metadata": {},
   "outputs": [
    {
     "data": {
      "text/plain": [
       "16"
      ]
     },
     "execution_count": 26,
     "metadata": {},
     "output_type": "execute_result"
    }
   ],
   "source": [
    "df['First_release_date'].isna().sum()"
   ]
  },
  {
   "cell_type": "code",
   "execution_count": 27,
   "id": "4dbd83a6",
   "metadata": {},
   "outputs": [],
   "source": [
    "# fill the missing date with next row date\n",
    "df['First_release_date'].fillna(method=\"bfill\", inplace=True)"
   ]
  },
  {
   "cell_type": "code",
   "execution_count": 28,
   "id": "2e70c926",
   "metadata": {},
   "outputs": [],
   "source": [
    "# c =0 \n",
    "# for i in df['First_release_date']:\n",
    "#     c+=1\n",
    "#     print(i ,'     ', c)"
   ]
  },
  {
   "cell_type": "code",
   "execution_count": 29,
   "id": "7e6dc41c",
   "metadata": {},
   "outputs": [],
   "source": [
    "# Extract Year, Month and Day from Datetime \n",
    "df['Year_release'] = df['First_release_date'].dt.year\n",
    "df['month_release'] = df['First_release_date'].dt.month\n",
    "df['day_release'] = df['First_release_date'].dt.day\n",
    "\n",
    "#df.head(2).T"
   ]
  },
  {
   "cell_type": "code",
   "execution_count": 30,
   "id": "f64ee30a",
   "metadata": {},
   "outputs": [
    {
     "data": {
      "text/plain": [
       "2023"
      ]
     },
     "execution_count": 30,
     "metadata": {},
     "output_type": "execute_result"
    }
   ],
   "source": [
    "df['Year_release'].max()"
   ]
  },
  {
   "cell_type": "code",
   "execution_count": 31,
   "id": "09e5aa17",
   "metadata": {},
   "outputs": [
    {
     "name": "stderr",
     "output_type": "stream",
     "text": [
      "<ipython-input-31-3827f96bd24f>:10: SettingWithCopyWarning: \n",
      "A value is trying to be set on a copy of a slice from a DataFrame\n",
      "\n",
      "See the caveats in the documentation: https://pandas.pydata.org/pandas-docs/stable/user_guide/indexing.html#returning-a-view-versus-a-copy\n",
      "  df['has_second_Release_time'][i] = True\n"
     ]
    }
   ],
   "source": [
    "# make new featue of the release time\n",
    "# looking to find which movie has more than one release time\n",
    "\n",
    "#['March 10, 1918 (New York City premiere)', 'April 29, 1918 (general)']\n",
    "\n",
    "df['has_second_Release_time'] = False\n",
    "for i, s in enumerate (df['Release date']):\n",
    "        d = s.split(\"', '\")\n",
    "        if len(d)>1:\n",
    "            df['has_second_Release_time'][i] = True "
   ]
  },
  {
   "cell_type": "code",
   "execution_count": 32,
   "id": "156efc75",
   "metadata": {
    "scrolled": true
   },
   "outputs": [],
   "source": [
    "#df.info()"
   ]
  },
  {
   "cell_type": "code",
   "execution_count": 33,
   "id": "b2028d7c",
   "metadata": {},
   "outputs": [],
   "source": [
    "#df.describe()"
   ]
  },
  {
   "cell_type": "code",
   "execution_count": 34,
   "id": "66956285",
   "metadata": {
    "scrolled": true
   },
   "outputs": [
    {
     "data": {
      "text/plain": [
       "7"
      ]
     },
     "execution_count": 34,
     "metadata": {},
     "output_type": "execute_result"
    }
   ],
   "source": [
    "df['Directed by'].isna().sum()"
   ]
  },
  {
   "cell_type": "code",
   "execution_count": 35,
   "id": "1df34f82",
   "metadata": {},
   "outputs": [],
   "source": [
    "#df['Directed by'].head()"
   ]
  },
  {
   "cell_type": "code",
   "execution_count": 36,
   "id": "148662e1",
   "metadata": {
    "scrolled": true
   },
   "outputs": [
    {
     "name": "stderr",
     "output_type": "stream",
     "text": [
      "<ipython-input-36-7363fc4d11c6>:8: SettingWithCopyWarning: \n",
      "A value is trying to be set on a copy of a slice from a DataFrame\n",
      "\n",
      "See the caveats in the documentation: https://pandas.pydata.org/pandas-docs/stable/user_guide/indexing.html#returning-a-view-versus-a-copy\n",
      "  df['Director_assist'][i] = True\n",
      "<ipython-input-36-7363fc4d11c6>:10: SettingWithCopyWarning: \n",
      "A value is trying to be set on a copy of a slice from a DataFrame\n",
      "\n",
      "See the caveats in the documentation: https://pandas.pydata.org/pandas-docs/stable/user_guide/indexing.html#returning-a-view-versus-a-copy\n",
      "  df['Director_missing'][i]= False\n",
      "<ipython-input-36-7363fc4d11c6>:11: SettingWithCopyWarning: \n",
      "A value is trying to be set on a copy of a slice from a DataFrame\n",
      "\n",
      "See the caveats in the documentation: https://pandas.pydata.org/pandas-docs/stable/user_guide/indexing.html#returning-a-view-versus-a-copy\n",
      "  df['Directed by'][i] = 'missing'\n"
     ]
    }
   ],
   "source": [
    "df['Director_missing'] =True\n",
    "df['Director_assist'] = False\n",
    "\n",
    "for i, con in enumerate(df['Directed by']):\n",
    "    if not pd.isnull(con):\n",
    "        s = con.split(\"', '\")\n",
    "        if len(s)>1:\n",
    "            df['Director_assist'][i] = True\n",
    "    else:\n",
    "        df['Director_missing'][i]= False\n",
    "        df['Directed by'][i] = 'missing'\n",
    "        #print(i)"
   ]
  },
  {
   "cell_type": "code",
   "execution_count": 37,
   "id": "db328fa3",
   "metadata": {},
   "outputs": [
    {
     "data": {
      "text/plain": [
       "0"
      ]
     },
     "execution_count": 37,
     "metadata": {},
     "output_type": "execute_result"
    }
   ],
   "source": [
    "df['Directed by'].isna().sum()"
   ]
  },
  {
   "cell_type": "code",
   "execution_count": 38,
   "id": "58d38355",
   "metadata": {},
   "outputs": [],
   "source": [
    "#df['Directed_by_cleaned']= df['Directed by']"
   ]
  },
  {
   "cell_type": "code",
   "execution_count": 39,
   "id": "7f309ce8",
   "metadata": {
    "scrolled": true
   },
   "outputs": [
    {
     "name": "stderr",
     "output_type": "stream",
     "text": [
      "<ipython-input-39-3fc4f8cb6f6d>:8: SettingWithCopyWarning: \n",
      "A value is trying to be set on a copy of a slice from a DataFrame\n",
      "\n",
      "See the caveats in the documentation: https://pandas.pydata.org/pandas-docs/stable/user_guide/indexing.html#returning-a-view-versus-a-copy\n",
      "  df['Directed by'][i] = s[0].strip(' ').split(\"['\")[1]\n",
      "<ipython-input-39-3fc4f8cb6f6d>:9: SettingWithCopyWarning: \n",
      "A value is trying to be set on a copy of a slice from a DataFrame\n",
      "\n",
      "See the caveats in the documentation: https://pandas.pydata.org/pandas-docs/stable/user_guide/indexing.html#returning-a-view-versus-a-copy\n",
      "  df['Director_split'][i]=c\n",
      "<ipython-input-39-3fc4f8cb6f6d>:11: SettingWithCopyWarning: \n",
      "A value is trying to be set on a copy of a slice from a DataFrame\n",
      "\n",
      "See the caveats in the documentation: https://pandas.pydata.org/pandas-docs/stable/user_guide/indexing.html#returning-a-view-versus-a-copy\n",
      "  df['Directed by'][len(df.index)-1] = s[1].strip(' ').split(\"']\")[0]\n",
      "<ipython-input-39-3fc4f8cb6f6d>:12: SettingWithCopyWarning: \n",
      "A value is trying to be set on a copy of a slice from a DataFrame\n",
      "\n",
      "See the caveats in the documentation: https://pandas.pydata.org/pandas-docs/stable/user_guide/indexing.html#returning-a-view-versus-a-copy\n",
      "  df['Director_split'][len(df.index)-2] = c\n"
     ]
    }
   ],
   "source": [
    "c = 1\n",
    "df['Director_split']=0\n",
    "\n",
    "for i, con in enumerate(df['Directed by']):\n",
    "    #print()\n",
    "    s = con.strip(' ').split(\"', '\")\n",
    "    if len(s)>1:\n",
    "        df['Directed by'][i] = s[0].strip(' ').split(\"['\")[1]\n",
    "        df['Director_split'][i]=c\n",
    "        df = df.append(df[i:i+1], ignore_index = True)\n",
    "        df['Directed by'][len(df.index)-1] = s[1].strip(' ').split(\"']\")[0]\n",
    "        df['Director_split'][len(df.index)-2] = c\n",
    "        c +=1\n",
    "#print(c)\n",
    "        #print(df['Directed by'][len(df.index)-1], s[1].strip(' '), len(df.index))       "
   ]
  },
  {
   "cell_type": "code",
   "execution_count": 40,
   "id": "47b1954f",
   "metadata": {},
   "outputs": [],
   "source": [
    "df['Directed by'] = df['Directed by'].apply(lambda x : clean_name(x))"
   ]
  },
  {
   "cell_type": "code",
   "execution_count": 42,
   "id": "1877282b",
   "metadata": {},
   "outputs": [],
   "source": [
    "#df.head().T"
   ]
  },
  {
   "cell_type": "code",
   "execution_count": 43,
   "id": "c23a7b23",
   "metadata": {},
   "outputs": [
    {
     "data": {
      "text/plain": [
       "1304"
      ]
     },
     "execution_count": 43,
     "metadata": {},
     "output_type": "execute_result"
    }
   ],
   "source": [
    "df['Written by'].isna().sum()"
   ]
  },
  {
   "cell_type": "code",
   "execution_count": 44,
   "id": "5abb1da2",
   "metadata": {
    "scrolled": true
   },
   "outputs": [
    {
     "name": "stderr",
     "output_type": "stream",
     "text": [
      "<ipython-input-44-20f4c960cafc>:21: SettingWithCopyWarning: \n",
      "A value is trying to be set on a copy of a slice from a DataFrame\n",
      "\n",
      "See the caveats in the documentation: https://pandas.pydata.org/pandas-docs/stable/user_guide/indexing.html#returning-a-view-versus-a-copy\n",
      "  df['WrittenBy_missing'][i]= False\n",
      "<ipython-input-44-20f4c960cafc>:22: SettingWithCopyWarning: \n",
      "A value is trying to be set on a copy of a slice from a DataFrame\n",
      "\n",
      "See the caveats in the documentation: https://pandas.pydata.org/pandas-docs/stable/user_guide/indexing.html#returning-a-view-versus-a-copy\n",
      "  df['Written by'][i] = 'missing'\n",
      "<ipython-input-44-20f4c960cafc>:11: SettingWithCopyWarning: \n",
      "A value is trying to be set on a copy of a slice from a DataFrame\n",
      "\n",
      "See the caveats in the documentation: https://pandas.pydata.org/pandas-docs/stable/user_guide/indexing.html#returning-a-view-versus-a-copy\n",
      "  df['Writer_split'][i] = c\n",
      "<ipython-input-44-20f4c960cafc>:13: SettingWithCopyWarning: \n",
      "A value is trying to be set on a copy of a slice from a DataFrame\n",
      "\n",
      "See the caveats in the documentation: https://pandas.pydata.org/pandas-docs/stable/user_guide/indexing.html#returning-a-view-versus-a-copy\n",
      "  df['Written by'][i] = s[0].strip(' ')\n",
      "<ipython-input-44-20f4c960cafc>:15: SettingWithCopyWarning: \n",
      "A value is trying to be set on a copy of a slice from a DataFrame\n",
      "\n",
      "See the caveats in the documentation: https://pandas.pydata.org/pandas-docs/stable/user_guide/indexing.html#returning-a-view-versus-a-copy\n",
      "  df['Written by'][len(df.index)-1] = s[1].strip(' ')\n",
      "<ipython-input-44-20f4c960cafc>:16: SettingWithCopyWarning: \n",
      "A value is trying to be set on a copy of a slice from a DataFrame\n",
      "\n",
      "See the caveats in the documentation: https://pandas.pydata.org/pandas-docs/stable/user_guide/indexing.html#returning-a-view-versus-a-copy\n",
      "  df['Writer_split'][len(df.index)-2] = c\n"
     ]
    },
    {
     "data": {
      "text/html": [
       "<div>\n",
       "<style scoped>\n",
       "    .dataframe tbody tr th:only-of-type {\n",
       "        vertical-align: middle;\n",
       "    }\n",
       "\n",
       "    .dataframe tbody tr th {\n",
       "        vertical-align: top;\n",
       "    }\n",
       "\n",
       "    .dataframe thead th {\n",
       "        text-align: right;\n",
       "    }\n",
       "</style>\n",
       "<table border=\"1\" class=\"dataframe\">\n",
       "  <thead>\n",
       "    <tr style=\"text-align: right;\">\n",
       "      <th></th>\n",
       "      <th>title</th>\n",
       "      <th>Directed by</th>\n",
       "      <th>Written by</th>\n",
       "      <th>Based on</th>\n",
       "      <th>Produced by</th>\n",
       "      <th>Starring</th>\n",
       "      <th>Cinematography</th>\n",
       "      <th>Edited by</th>\n",
       "      <th>Production companies</th>\n",
       "      <th>Distributed by</th>\n",
       "      <th>...</th>\n",
       "      <th>First_release_date</th>\n",
       "      <th>Year_release</th>\n",
       "      <th>month_release</th>\n",
       "      <th>day_release</th>\n",
       "      <th>has_second_Release_time</th>\n",
       "      <th>Director_missing</th>\n",
       "      <th>Director_assist</th>\n",
       "      <th>Director_split</th>\n",
       "      <th>WrittenBy_missing</th>\n",
       "      <th>Writer_split</th>\n",
       "    </tr>\n",
       "  </thead>\n",
       "  <tbody>\n",
       "    <tr>\n",
       "      <th>0</th>\n",
       "      <td>My Four Years in Germany</td>\n",
       "      <td>William Nigh</td>\n",
       "      <td>Charles A. Logue</td>\n",
       "      <td>['My Four Years in Germany', 'by', 'James W. G...</td>\n",
       "      <td>['Harry Warner', 'Albert Warner', 'Sam Warner'...</td>\n",
       "      <td>Halbert Brown</td>\n",
       "      <td>Rial B. Schellinger</td>\n",
       "      <td>William Nigh</td>\n",
       "      <td>['My Four Years in Germany Pictures, Inc.', 'W...</td>\n",
       "      <td>First National Exhibitors' Circuit, Inc.</td>\n",
       "      <td>...</td>\n",
       "      <td>1918-03-10</td>\n",
       "      <td>1918</td>\n",
       "      <td>3</td>\n",
       "      <td>10</td>\n",
       "      <td>True</td>\n",
       "      <td>True</td>\n",
       "      <td>True</td>\n",
       "      <td>1</td>\n",
       "      <td>True</td>\n",
       "      <td>0</td>\n",
       "    </tr>\n",
       "    <tr>\n",
       "      <th>1</th>\n",
       "      <td>Kaiser's Finish</td>\n",
       "      <td>John Josseph Harvey</td>\n",
       "      <td>missing</td>\n",
       "      <td>NaN</td>\n",
       "      <td>Sam Warner</td>\n",
       "      <td>Earl Schenck', 'Claire Whitney', 'and Percy St...</td>\n",
       "      <td>Rial Schellinger</td>\n",
       "      <td>William Nigh</td>\n",
       "      <td>NaN</td>\n",
       "      <td>['State Rights', 'Warner Bros. Pictures']</td>\n",
       "      <td>...</td>\n",
       "      <td>1918-11-02</td>\n",
       "      <td>1918</td>\n",
       "      <td>11</td>\n",
       "      <td>2</td>\n",
       "      <td>False</td>\n",
       "      <td>True</td>\n",
       "      <td>False</td>\n",
       "      <td>0</td>\n",
       "      <td>False</td>\n",
       "      <td>0</td>\n",
       "    </tr>\n",
       "    <tr>\n",
       "      <th>2</th>\n",
       "      <td>Open Your Eyes</td>\n",
       "      <td>Gilbert P. Hamilton</td>\n",
       "      <td>['C.B. Minty</td>\n",
       "      <td>NaN</td>\n",
       "      <td>NaN</td>\n",
       "      <td>['Faire Binney', 'Mrs. Joupert', 'Jack Hopkins...</td>\n",
       "      <td>NaN</td>\n",
       "      <td>NaN</td>\n",
       "      <td>['State Health Films Inc.', 'Warner Bros.']</td>\n",
       "      <td>Warner Bros.</td>\n",
       "      <td>...</td>\n",
       "      <td>1919-05-01</td>\n",
       "      <td>1919</td>\n",
       "      <td>5</td>\n",
       "      <td>1</td>\n",
       "      <td>False</td>\n",
       "      <td>True</td>\n",
       "      <td>False</td>\n",
       "      <td>0</td>\n",
       "      <td>True</td>\n",
       "      <td>1</td>\n",
       "    </tr>\n",
       "    <tr>\n",
       "      <th>3</th>\n",
       "      <td>Beware!</td>\n",
       "      <td>William Nigh</td>\n",
       "      <td>['James W. Gerard</td>\n",
       "      <td>NaN</td>\n",
       "      <td>NaN</td>\n",
       "      <td>['Maurine Powers', 'Regina Quinn', 'Leslie Rye...</td>\n",
       "      <td>NaN</td>\n",
       "      <td>NaN</td>\n",
       "      <td>NaN</td>\n",
       "      <td>Warner Bros.</td>\n",
       "      <td>...</td>\n",
       "      <td>1919-06-01</td>\n",
       "      <td>1919</td>\n",
       "      <td>6</td>\n",
       "      <td>1</td>\n",
       "      <td>False</td>\n",
       "      <td>True</td>\n",
       "      <td>False</td>\n",
       "      <td>0</td>\n",
       "      <td>True</td>\n",
       "      <td>2</td>\n",
       "    </tr>\n",
       "    <tr>\n",
       "      <th>4</th>\n",
       "      <td>The Lost City</td>\n",
       "      <td>E.A. Martin</td>\n",
       "      <td>missing</td>\n",
       "      <td>NaN</td>\n",
       "      <td>NaN</td>\n",
       "      <td>['Juanita Hansen', 'George Chesebro', 'Frank C...</td>\n",
       "      <td>NaN</td>\n",
       "      <td>NaN</td>\n",
       "      <td>NaN</td>\n",
       "      <td>Warner Bros. Pictures</td>\n",
       "      <td>...</td>\n",
       "      <td>1920-01-01</td>\n",
       "      <td>1920</td>\n",
       "      <td>1</td>\n",
       "      <td>1</td>\n",
       "      <td>False</td>\n",
       "      <td>True</td>\n",
       "      <td>False</td>\n",
       "      <td>0</td>\n",
       "      <td>False</td>\n",
       "      <td>0</td>\n",
       "    </tr>\n",
       "    <tr>\n",
       "      <th>...</th>\n",
       "      <td>...</td>\n",
       "      <td>...</td>\n",
       "      <td>...</td>\n",
       "      <td>...</td>\n",
       "      <td>...</td>\n",
       "      <td>...</td>\n",
       "      <td>...</td>\n",
       "      <td>...</td>\n",
       "      <td>...</td>\n",
       "      <td>...</td>\n",
       "      <td>...</td>\n",
       "      <td>...</td>\n",
       "      <td>...</td>\n",
       "      <td>...</td>\n",
       "      <td>...</td>\n",
       "      <td>...</td>\n",
       "      <td>...</td>\n",
       "      <td>...</td>\n",
       "      <td>...</td>\n",
       "      <td>...</td>\n",
       "      <td>...</td>\n",
       "    </tr>\n",
       "    <tr>\n",
       "      <th>3806</th>\n",
       "      <td>Focus</td>\n",
       "      <td>John Requa</td>\n",
       "      <td>John Requa']</td>\n",
       "      <td>NaN</td>\n",
       "      <td>Denise Di Novi</td>\n",
       "      <td>['Will Smith', 'Margot Robbie']</td>\n",
       "      <td>Xavier Pérez Grobet</td>\n",
       "      <td>Jan Kovac</td>\n",
       "      <td>['RatPac-Dune Entertainment', 'Di Novi Picture...</td>\n",
       "      <td>Warner Bros. Pictures</td>\n",
       "      <td>...</td>\n",
       "      <td>2015-02-11</td>\n",
       "      <td>2015</td>\n",
       "      <td>2</td>\n",
       "      <td>11</td>\n",
       "      <td>True</td>\n",
       "      <td>True</td>\n",
       "      <td>True</td>\n",
       "      <td>122</td>\n",
       "      <td>True</td>\n",
       "      <td>940</td>\n",
       "    </tr>\n",
       "    <tr>\n",
       "      <th>3807</th>\n",
       "      <td>The Gallows</td>\n",
       "      <td>Travis Cluff</td>\n",
       "      <td>Travis Cluff']</td>\n",
       "      <td>NaN</td>\n",
       "      <td>['Jason Blum', 'Guymon Casady', 'Dean Schnider...</td>\n",
       "      <td>['Reese Mishler', 'Pfeifer Brown', 'Ryan Shoos...</td>\n",
       "      <td>Edd Lukas</td>\n",
       "      <td>Chris Lofing</td>\n",
       "      <td>['New Line Cinema', 'Blumhouse Productions', '...</td>\n",
       "      <td>Warner Bros. Pictures</td>\n",
       "      <td>...</td>\n",
       "      <td>2015-06-30</td>\n",
       "      <td>2015</td>\n",
       "      <td>6</td>\n",
       "      <td>30</td>\n",
       "      <td>True</td>\n",
       "      <td>True</td>\n",
       "      <td>True</td>\n",
       "      <td>123</td>\n",
       "      <td>True</td>\n",
       "      <td>941</td>\n",
       "    </tr>\n",
       "    <tr>\n",
       "      <th>3808</th>\n",
       "      <td>Vacation</td>\n",
       "      <td>John Francis Daley</td>\n",
       "      <td>John Francis Daley']</td>\n",
       "      <td>['Characters', 'by', 'John Hughes']</td>\n",
       "      <td>['David Dobkin', 'Chris Bender']</td>\n",
       "      <td>['Ed Helms', 'Christina Applegate', 'Leslie Ma...</td>\n",
       "      <td>Barry Peterson</td>\n",
       "      <td>Jamie Gross</td>\n",
       "      <td>['New Line Cinema', 'RatPac-Dune Entertainment...</td>\n",
       "      <td>Warner Bros. Pictures</td>\n",
       "      <td>...</td>\n",
       "      <td>2015-07-29</td>\n",
       "      <td>2015</td>\n",
       "      <td>7</td>\n",
       "      <td>29</td>\n",
       "      <td>False</td>\n",
       "      <td>True</td>\n",
       "      <td>True</td>\n",
       "      <td>124</td>\n",
       "      <td>True</td>\n",
       "      <td>942</td>\n",
       "    </tr>\n",
       "    <tr>\n",
       "      <th>3809</th>\n",
       "      <td>Teen Titans Go! To the Movies</td>\n",
       "      <td>Aaron Horvath</td>\n",
       "      <td>Aaron Horvath']</td>\n",
       "      <td>['Teen Titans Go!', 'by Michael Jelenic and Aa...</td>\n",
       "      <td>['Aaron Horvath', 'Michael Jelenic', 'Peggy Re...</td>\n",
       "      <td>['Greg Cipes', 'Scott Menville', 'Khary Payton...</td>\n",
       "      <td>NaN</td>\n",
       "      <td>Nick Kenway</td>\n",
       "      <td>['Warner Bros. Animation', 'DC Entertainment']</td>\n",
       "      <td>Warner Bros. Pictures</td>\n",
       "      <td>...</td>\n",
       "      <td>2018-07-22</td>\n",
       "      <td>2018</td>\n",
       "      <td>7</td>\n",
       "      <td>22</td>\n",
       "      <td>True</td>\n",
       "      <td>True</td>\n",
       "      <td>True</td>\n",
       "      <td>128</td>\n",
       "      <td>True</td>\n",
       "      <td>943</td>\n",
       "    </tr>\n",
       "    <tr>\n",
       "      <th>3810</th>\n",
       "      <td>The Battle of Jangsari</td>\n",
       "      <td>Kim Tae hoon</td>\n",
       "      <td>Jung Tae-Won']</td>\n",
       "      <td>NaN</td>\n",
       "      <td>['Kim Sung-Mi', 'Kim Dong-Won', 'Jung Tae-Won']</td>\n",
       "      <td>['Kim Myung-min', 'Megan Fox', 'Choi Min-ho']</td>\n",
       "      <td>Kim Sung-Hwan</td>\n",
       "      <td>NaN</td>\n",
       "      <td>NaN</td>\n",
       "      <td>Warner Bros. Korea</td>\n",
       "      <td>...</td>\n",
       "      <td>2019-09-25</td>\n",
       "      <td>2019</td>\n",
       "      <td>9</td>\n",
       "      <td>25</td>\n",
       "      <td>False</td>\n",
       "      <td>True</td>\n",
       "      <td>True</td>\n",
       "      <td>130</td>\n",
       "      <td>True</td>\n",
       "      <td>943</td>\n",
       "    </tr>\n",
       "  </tbody>\n",
       "</table>\n",
       "<p>3811 rows × 76 columns</p>\n",
       "</div>"
      ],
      "text/plain": [
       "                              title          Directed by  \\\n",
       "0          My Four Years in Germany         William Nigh   \n",
       "1                   Kaiser's Finish  John Josseph Harvey   \n",
       "2                    Open Your Eyes  Gilbert P. Hamilton   \n",
       "3                           Beware!         William Nigh   \n",
       "4                     The Lost City          E.A. Martin   \n",
       "...                             ...                  ...   \n",
       "3806                          Focus           John Requa   \n",
       "3807                    The Gallows         Travis Cluff   \n",
       "3808                       Vacation   John Francis Daley   \n",
       "3809  Teen Titans Go! To the Movies        Aaron Horvath   \n",
       "3810         The Battle of Jangsari         Kim Tae hoon   \n",
       "\n",
       "                Written by                                           Based on  \\\n",
       "0         Charles A. Logue  ['My Four Years in Germany', 'by', 'James W. G...   \n",
       "1                  missing                                                NaN   \n",
       "2             ['C.B. Minty                                                NaN   \n",
       "3        ['James W. Gerard                                                NaN   \n",
       "4                  missing                                                NaN   \n",
       "...                    ...                                                ...   \n",
       "3806          John Requa']                                                NaN   \n",
       "3807        Travis Cluff']                                                NaN   \n",
       "3808  John Francis Daley']                ['Characters', 'by', 'John Hughes']   \n",
       "3809       Aaron Horvath']  ['Teen Titans Go!', 'by Michael Jelenic and Aa...   \n",
       "3810        Jung Tae-Won']                                                NaN   \n",
       "\n",
       "                                            Produced by  \\\n",
       "0     ['Harry Warner', 'Albert Warner', 'Sam Warner'...   \n",
       "1                                            Sam Warner   \n",
       "2                                                   NaN   \n",
       "3                                                   NaN   \n",
       "4                                                   NaN   \n",
       "...                                                 ...   \n",
       "3806                                     Denise Di Novi   \n",
       "3807  ['Jason Blum', 'Guymon Casady', 'Dean Schnider...   \n",
       "3808                   ['David Dobkin', 'Chris Bender']   \n",
       "3809  ['Aaron Horvath', 'Michael Jelenic', 'Peggy Re...   \n",
       "3810    ['Kim Sung-Mi', 'Kim Dong-Won', 'Jung Tae-Won']   \n",
       "\n",
       "                                               Starring       Cinematography  \\\n",
       "0                                         Halbert Brown  Rial B. Schellinger   \n",
       "1     Earl Schenck', 'Claire Whitney', 'and Percy St...     Rial Schellinger   \n",
       "2     ['Faire Binney', 'Mrs. Joupert', 'Jack Hopkins...                  NaN   \n",
       "3     ['Maurine Powers', 'Regina Quinn', 'Leslie Rye...                  NaN   \n",
       "4     ['Juanita Hansen', 'George Chesebro', 'Frank C...                  NaN   \n",
       "...                                                 ...                  ...   \n",
       "3806                    ['Will Smith', 'Margot Robbie']  Xavier Pérez Grobet   \n",
       "3807  ['Reese Mishler', 'Pfeifer Brown', 'Ryan Shoos...            Edd Lukas   \n",
       "3808  ['Ed Helms', 'Christina Applegate', 'Leslie Ma...       Barry Peterson   \n",
       "3809  ['Greg Cipes', 'Scott Menville', 'Khary Payton...                  NaN   \n",
       "3810      ['Kim Myung-min', 'Megan Fox', 'Choi Min-ho']        Kim Sung-Hwan   \n",
       "\n",
       "         Edited by                               Production companies  \\\n",
       "0     William Nigh  ['My Four Years in Germany Pictures, Inc.', 'W...   \n",
       "1     William Nigh                                                NaN   \n",
       "2              NaN        ['State Health Films Inc.', 'Warner Bros.']   \n",
       "3              NaN                                                NaN   \n",
       "4              NaN                                                NaN   \n",
       "...            ...                                                ...   \n",
       "3806     Jan Kovac  ['RatPac-Dune Entertainment', 'Di Novi Picture...   \n",
       "3807  Chris Lofing  ['New Line Cinema', 'Blumhouse Productions', '...   \n",
       "3808   Jamie Gross  ['New Line Cinema', 'RatPac-Dune Entertainment...   \n",
       "3809   Nick Kenway     ['Warner Bros. Animation', 'DC Entertainment']   \n",
       "3810           NaN                                                NaN   \n",
       "\n",
       "                                 Distributed by  ... First_release_date  \\\n",
       "0      First National Exhibitors' Circuit, Inc.  ...         1918-03-10   \n",
       "1     ['State Rights', 'Warner Bros. Pictures']  ...         1918-11-02   \n",
       "2                                  Warner Bros.  ...         1919-05-01   \n",
       "3                                  Warner Bros.  ...         1919-06-01   \n",
       "4                         Warner Bros. Pictures  ...         1920-01-01   \n",
       "...                                         ...  ...                ...   \n",
       "3806                      Warner Bros. Pictures  ...         2015-02-11   \n",
       "3807                      Warner Bros. Pictures  ...         2015-06-30   \n",
       "3808                      Warner Bros. Pictures  ...         2015-07-29   \n",
       "3809                      Warner Bros. Pictures  ...         2018-07-22   \n",
       "3810                         Warner Bros. Korea  ...         2019-09-25   \n",
       "\n",
       "     Year_release month_release day_release  has_second_Release_time  \\\n",
       "0            1918             3          10                     True   \n",
       "1            1918            11           2                    False   \n",
       "2            1919             5           1                    False   \n",
       "3            1919             6           1                    False   \n",
       "4            1920             1           1                    False   \n",
       "...           ...           ...         ...                      ...   \n",
       "3806         2015             2          11                     True   \n",
       "3807         2015             6          30                     True   \n",
       "3808         2015             7          29                    False   \n",
       "3809         2018             7          22                     True   \n",
       "3810         2019             9          25                    False   \n",
       "\n",
       "      Director_missing  Director_assist Director_split  WrittenBy_missing  \\\n",
       "0                 True             True              1               True   \n",
       "1                 True            False              0              False   \n",
       "2                 True            False              0               True   \n",
       "3                 True            False              0               True   \n",
       "4                 True            False              0              False   \n",
       "...                ...              ...            ...                ...   \n",
       "3806              True             True            122               True   \n",
       "3807              True             True            123               True   \n",
       "3808              True             True            124               True   \n",
       "3809              True             True            128               True   \n",
       "3810              True             True            130               True   \n",
       "\n",
       "      Writer_split  \n",
       "0                0  \n",
       "1                0  \n",
       "2                1  \n",
       "3                2  \n",
       "4                0  \n",
       "...            ...  \n",
       "3806           940  \n",
       "3807           941  \n",
       "3808           942  \n",
       "3809           943  \n",
       "3810           943  \n",
       "\n",
       "[3811 rows x 76 columns]"
      ]
     },
     "execution_count": 44,
     "metadata": {},
     "output_type": "execute_result"
    }
   ],
   "source": [
    "# df['Written by'] =df['Written by'].fillna('missing')\n",
    "# df['Written by'].isna().sum()\n",
    "\n",
    "c = 1\n",
    "df['WrittenBy_missing'] = True\n",
    "df['Writer_split'] = 0 \n",
    "for i, con in enumerate(df['Written by']):\n",
    "    if not pd.isnull(con):\n",
    "        s = con.split(\"', '\")\n",
    "        if len(s)>1:\n",
    "            df['Writer_split'][i] = c\n",
    "            #print(s[0], i)\n",
    "            df['Written by'][i] = s[0].strip(' ')\n",
    "            df = df.append(df[i:i+1], ignore_index = True)            \n",
    "            df['Written by'][len(df.index)-1] = s[1].strip(' ')\n",
    "            df['Writer_split'][len(df.index)-2] = c\n",
    "\n",
    "            c +=1\n",
    "            \n",
    "    else:\n",
    "        df['WrittenBy_missing'][i]= False\n",
    "        df['Written by'][i] = 'missing'\n",
    "        #print(i)\n",
    "        \n",
    "d = ['(screenplay)', '(story)', '(novel)', '(adaptation)', \"(scenario & dialogue)']\", \"(scenario)']\",\\\n",
    "     '(book)', \"(novel\", \"(Credited)\", '(autobiography)', '(memoirs)', '(screenplay', '(as Frank Christina)', '(as John Elder)'\\\n",
    "    '(writer)', '(play)', '(novel \"Rear Guard\")','(novel and screenplay)', '(articles)', \"(additional dialogue)']\",\\\n",
    "    '(uncredited contributor)', '(story, uncredited)', '(play \"A Kuruzslo\")','(play',\"(adaptation)']\", '(scenario & dialogue)',\\\n",
    "    '(scenario)', '(story; as Gregory Rogers)','(screen story)', '(intertitles)', '(as Gregory Rogers)', '(as John Elder)'\\\n",
    "    ,'(contributing writer)', '(writer) ', '(screenplay and adaptation) ', '(screen adaptation)', '(adaptation & dialogue)',\\\n",
    "    '(titles)', ]        \n",
    "        \n",
    "for i, con  in enumerate (df['Written by']):\n",
    "    if con in d:\n",
    "        df.drop(i, inplace=True )\n",
    "    \n",
    "df.reset_index(drop=True)"
   ]
  },
  {
   "cell_type": "code",
   "execution_count": 45,
   "id": "11561f6d",
   "metadata": {
    "scrolled": true
   },
   "outputs": [
    {
     "data": {
      "text/plain": [
       "0"
      ]
     },
     "execution_count": 45,
     "metadata": {},
     "output_type": "execute_result"
    }
   ],
   "source": [
    "df['Written by'].isna().sum()"
   ]
  },
  {
   "cell_type": "code",
   "execution_count": 47,
   "id": "faeed92e",
   "metadata": {},
   "outputs": [],
   "source": [
    "def clean_written_name(x):\n",
    "    name = x.split('(')\n",
    "    name = name[0].split(',')\n",
    "    name = name[0].split('&')\n",
    "    name = name[0].split(' based on ')\n",
    "    name = name[0].split(' and ')\n",
    "    name = name[0].replace(\"[\", '')\n",
    "    name = name.replace(\"'\", '')\n",
    "    name = name.replace(\"]\", '')\n",
    "    name = name.replace('\"', '')\n",
    "    name = name.replace('\\\\xa0', ' ')\n",
    "    name = name.replace('U.S.', '')\n",
    "    name = name.replace('US', '')\n",
    "    name = name.replace('-', ' ')\n",
    "    name = name.replace(':', '')\n",
    "    name = name.replace('&', '')\n",
    "    return name.strip(\" \")\n",
    "\n",
    "df['Written by']= df['Written by'].apply(lambda x: clean_written_name(x))"
   ]
  },
  {
   "cell_type": "code",
   "execution_count": 49,
   "id": "fb508154",
   "metadata": {},
   "outputs": [
    {
     "data": {
      "text/plain": [
       "0"
      ]
     },
     "execution_count": 49,
     "metadata": {},
     "output_type": "execute_result"
    }
   ],
   "source": [
    "df['Written by'].isna().sum()"
   ]
  },
  {
   "cell_type": "code",
   "execution_count": 50,
   "id": "208bba90",
   "metadata": {},
   "outputs": [
    {
     "data": {
      "text/plain": [
       "2240"
      ]
     },
     "execution_count": 50,
     "metadata": {},
     "output_type": "execute_result"
    }
   ],
   "source": [
    "df['Based on'].isna().sum()"
   ]
  },
  {
   "cell_type": "code",
   "execution_count": 51,
   "id": "ae679d59",
   "metadata": {},
   "outputs": [
    {
     "data": {
      "text/plain": [
       "635"
      ]
     },
     "execution_count": 51,
     "metadata": {},
     "output_type": "execute_result"
    }
   ],
   "source": [
    "df['Produced by'].isnull().sum()"
   ]
  },
  {
   "cell_type": "code",
   "execution_count": 52,
   "id": "9cd46ab0",
   "metadata": {},
   "outputs": [
    {
     "name": "stderr",
     "output_type": "stream",
     "text": [
      "<timed exec>:9: SettingWithCopyWarning: \n",
      "A value is trying to be set on a copy of a slice from a DataFrame\n",
      "\n",
      "See the caveats in the documentation: https://pandas.pydata.org/pandas-docs/stable/user_guide/indexing.html#returning-a-view-versus-a-copy\n",
      "<timed exec>:11: SettingWithCopyWarning: \n",
      "A value is trying to be set on a copy of a slice from a DataFrame\n",
      "\n",
      "See the caveats in the documentation: https://pandas.pydata.org/pandas-docs/stable/user_guide/indexing.html#returning-a-view-versus-a-copy\n",
      "<timed exec>:18: SettingWithCopyWarning: \n",
      "A value is trying to be set on a copy of a slice from a DataFrame\n",
      "\n",
      "See the caveats in the documentation: https://pandas.pydata.org/pandas-docs/stable/user_guide/indexing.html#returning-a-view-versus-a-copy\n",
      "<timed exec>:19: SettingWithCopyWarning: \n",
      "A value is trying to be set on a copy of a slice from a DataFrame\n",
      "\n",
      "See the caveats in the documentation: https://pandas.pydata.org/pandas-docs/stable/user_guide/indexing.html#returning-a-view-versus-a-copy\n",
      "<timed exec>:22: SettingWithCopyWarning: \n",
      "A value is trying to be set on a copy of a slice from a DataFrame\n",
      "\n",
      "See the caveats in the documentation: https://pandas.pydata.org/pandas-docs/stable/user_guide/indexing.html#returning-a-view-versus-a-copy\n",
      "<timed exec>:23: SettingWithCopyWarning: \n",
      "A value is trying to be set on a copy of a slice from a DataFrame\n",
      "\n",
      "See the caveats in the documentation: https://pandas.pydata.org/pandas-docs/stable/user_guide/indexing.html#returning-a-view-versus-a-copy\n",
      "<timed exec>:15: SettingWithCopyWarning: \n",
      "A value is trying to be set on a copy of a slice from a DataFrame\n",
      "\n",
      "See the caveats in the documentation: https://pandas.pydata.org/pandas-docs/stable/user_guide/indexing.html#returning-a-view-versus-a-copy\n",
      "<timed exec>:16: SettingWithCopyWarning: \n",
      "A value is trying to be set on a copy of a slice from a DataFrame\n",
      "\n",
      "See the caveats in the documentation: https://pandas.pydata.org/pandas-docs/stable/user_guide/indexing.html#returning-a-view-versus-a-copy\n"
     ]
    },
    {
     "name": "stdout",
     "output_type": "stream",
     "text": [
      "Wall time: 14.5 s\n"
     ]
    }
   ],
   "source": [
    "%%time\n",
    "\n",
    "df['ProducedBy_missing'] = True\n",
    "df['split_producedBy'] = 0\n",
    "\n",
    "c = 1\n",
    "for i, con in enumerate(df['Produced by']):\n",
    "    if not pd.isnull(con):\n",
    "        s = con.split(\"', '\")\n",
    "        if len(s)>1:\n",
    "            df['split_producedBy'][i] = c\n",
    "            #print(s[0], i)\n",
    "            df['Produced by'][i] = s[0].replace(\"['\",'').strip(' ')\n",
    "            df = df.append(df[i:i+1], ignore_index = True)\n",
    "            if s[1] =='(uncredited executive producer)' or s[1] =='(uncredited)' or s[1] =='(exec. prod.)'\\\n",
    "                                                or s[1] =='(producer)'or  s[1] =='(executive producer)':\n",
    "                df['Produced by'][len(df.index)-1] = s[2].strip(' ')\n",
    "                df['split_producedBy'][len(df.index)-2] = c\n",
    "            else:\n",
    "                df['Produced by'][len(df.index)-1] = s[1].strip(' ')\n",
    "                df['split_producedBy'][len(df.index)-2] = c\n",
    "            c +=1\n",
    "    else:\n",
    "        df['ProducedBy_missing'][i]= False\n",
    "        df['Produced by'][i] = 'missing'\n",
    "        #print(i)"
   ]
  },
  {
   "cell_type": "code",
   "execution_count": 53,
   "id": "5ad8f214",
   "metadata": {},
   "outputs": [],
   "source": [
    "# c=0\n",
    "# for i in df['Produced by']:   \n",
    "#     print(i, (c))\n",
    "#     c+=1"
   ]
  },
  {
   "cell_type": "code",
   "execution_count": 54,
   "id": "f0515711",
   "metadata": {},
   "outputs": [],
   "source": [
    "def clean_productBy_name(x):\n",
    "    name = x.split('(')\n",
    "    name = name[0].split(',')\n",
    "    name = name[0].split('&')\n",
    "    name = name[0].split(' based on ')\n",
    "    name = name[0].split(' and ')\n",
    "    name = name[0].replace(\"[\", '')\n",
    "    name = name.replace(\"'\", '')\n",
    "    name = name.replace(\"]\", '')\n",
    "    name = name.replace('\"', '')\n",
    "    name = name.replace('\\\\xa0', ' ')\n",
    "    name = name.replace('U.S.', '')\n",
    "    name = name.replace('US', '')\n",
    "    name = name.replace('-', ' ')\n",
    "    name = name.replace(':', '')\n",
    "    name = name.replace('&', '')\n",
    "    return name.strip(\" \")\n",
    "\n",
    "df['Produced by']= df['Produced by'].apply(lambda x: clean_productBy_name(x))"
   ]
  },
  {
   "cell_type": "code",
   "execution_count": 56,
   "id": "1d57cc3b",
   "metadata": {},
   "outputs": [
    {
     "data": {
      "text/plain": [
       "82"
      ]
     },
     "execution_count": 56,
     "metadata": {},
     "output_type": "execute_result"
    }
   ],
   "source": [
    "df['Starring'].isna().sum()"
   ]
  },
  {
   "cell_type": "code",
   "execution_count": 57,
   "id": "d3091a56",
   "metadata": {
    "scrolled": true
   },
   "outputs": [
    {
     "name": "stderr",
     "output_type": "stream",
     "text": [
      "<timed exec>:18: SettingWithCopyWarning: \n",
      "A value is trying to be set on a copy of a slice from a DataFrame\n",
      "\n",
      "See the caveats in the documentation: https://pandas.pydata.org/pandas-docs/stable/user_guide/indexing.html#returning-a-view-versus-a-copy\n",
      "<timed exec>:20: SettingWithCopyWarning: \n",
      "A value is trying to be set on a copy of a slice from a DataFrame\n",
      "\n",
      "See the caveats in the documentation: https://pandas.pydata.org/pandas-docs/stable/user_guide/indexing.html#returning-a-view-versus-a-copy\n",
      "<timed exec>:23: SettingWithCopyWarning: \n",
      "A value is trying to be set on a copy of a slice from a DataFrame\n",
      "\n",
      "See the caveats in the documentation: https://pandas.pydata.org/pandas-docs/stable/user_guide/indexing.html#returning-a-view-versus-a-copy\n",
      "<timed exec>:24: SettingWithCopyWarning: \n",
      "A value is trying to be set on a copy of a slice from a DataFrame\n",
      "\n",
      "See the caveats in the documentation: https://pandas.pydata.org/pandas-docs/stable/user_guide/indexing.html#returning-a-view-versus-a-copy\n",
      "<timed exec>:33: SettingWithCopyWarning: \n",
      "A value is trying to be set on a copy of a slice from a DataFrame\n",
      "\n",
      "See the caveats in the documentation: https://pandas.pydata.org/pandas-docs/stable/user_guide/indexing.html#returning-a-view-versus-a-copy\n",
      "<timed exec>:34: SettingWithCopyWarning: \n",
      "A value is trying to be set on a copy of a slice from a DataFrame\n",
      "\n",
      "See the caveats in the documentation: https://pandas.pydata.org/pandas-docs/stable/user_guide/indexing.html#returning-a-view-versus-a-copy\n"
     ]
    },
    {
     "name": "stdout",
     "output_type": "stream",
     "text": [
      "Wall time: 1min 10s\n"
     ]
    }
   ],
   "source": [
    "%%time\n",
    "\n",
    "def modify_name(x):\n",
    "    if not pd.isnull(x):\n",
    "        return x.replace('\"', \"'\")\n",
    "    else:\n",
    "        return x\n",
    "\n",
    "df['Starring'] = df['Starring'].apply(lambda x: modify_name(x))\n",
    "\n",
    "\n",
    "df['Starring_missing'] = True\n",
    "df['split_Starring'] = 0\n",
    "\n",
    "c = 1\n",
    "for i, con in enumerate(df['Starring']):\n",
    "    if not pd.isnull(con):\n",
    "        s = con.split(\"', '\")\n",
    "        if len(s)>1:\n",
    "            df['split_Starring'][i] = c\n",
    "            #print(s[0], i)\n",
    "            df['Starring'][i] = s[0].replace(\"['\",'').strip(' ')\n",
    "            df = df.append(df[i:i+1], ignore_index = True)\n",
    "            if s[1]:\n",
    "                df['Starring'][len(df.index)-1] = s[1].strip(' ')\n",
    "                df['split_Starring'][len(df.index)-2] = c\n",
    "            elif s[2]:\n",
    "                df['Starring'][len(df.index)-1] = s[2].strip(' ')\n",
    "                df['split_Starring'][len(df.index)-2] = c\n",
    "            elif s[3]:\n",
    "                df['Starring'][len(df.index)-1] = s[3].strip(' ')\n",
    "                df['split_Starring'][len(df.index)-2] = c\n",
    "            c +=1\n",
    "    else:\n",
    "        df['Starring_missing'][i]= False\n",
    "        df['Starring'][i] = 'missing'\n",
    "        #print(i)"
   ]
  },
  {
   "cell_type": "code",
   "execution_count": 59,
   "id": "92cca1f5",
   "metadata": {},
   "outputs": [],
   "source": [
    "# remove the colummns that we dont need\n",
    "clean_columns = ['First_release_date', 'Release date', 'Release date (datetime)','Based on','Years', 'Owner', 'Original work','Created by',\\\n",
    "                'Basis', 'Italian', 'Hanja', 'Dutch', 'Revised Romanization', 'Hangul', 'German', 'Screen story by',\\\n",
    "                'Hepburn','Japanese','Music by','Color process','Narrated by','Music','Lyrics','Book','Productions'\\\n",
    "                 ,'Awards','Countries','Animation by', 'Date premiered','Place premiered','Original language', 'Genre', 'Setting'\\\n",
    "                ,'French','Traditional', 'Simplified', 'Mandarin', 'Cantonese','Literally','Adaptation by', 'Layouts by','Backgrounds by',\\\n",
    "                'Spanish', 'Cinematography','Edited by', 'Distributed by', 'Running time','metascore',\\\n",
    "                'Metacritic', 'Story by', 'Screenplay by','Budget','Box office',  ]\n",
    "\n",
    "\n",
    "for i in clean_columns:\n",
    "    df = df.drop([i], axis=1)\n",
    "\n"
   ]
  },
  {
   "cell_type": "code",
   "execution_count": 60,
   "id": "b3dc7e73",
   "metadata": {},
   "outputs": [],
   "source": [
    "df.to_csv('clean_data_till_starring.csv',index= False)"
   ]
  },
  {
   "cell_type": "code",
   "execution_count": 61,
   "id": "982f22c2",
   "metadata": {},
   "outputs": [],
   "source": [
    "df = pd.read_csv('clean_data_till_starring.csv')"
   ]
  },
  {
   "cell_type": "code",
   "execution_count": 62,
   "id": "d7b97235",
   "metadata": {},
   "outputs": [
    {
     "data": {
      "text/html": [
       "<div>\n",
       "<style scoped>\n",
       "    .dataframe tbody tr th:only-of-type {\n",
       "        vertical-align: middle;\n",
       "    }\n",
       "\n",
       "    .dataframe tbody tr th {\n",
       "        vertical-align: top;\n",
       "    }\n",
       "\n",
       "    .dataframe thead th {\n",
       "        text-align: right;\n",
       "    }\n",
       "</style>\n",
       "<table border=\"1\" class=\"dataframe\">\n",
       "  <thead>\n",
       "    <tr style=\"text-align: right;\">\n",
       "      <th></th>\n",
       "      <th>title</th>\n",
       "      <th>Directed by</th>\n",
       "      <th>Written by</th>\n",
       "      <th>Produced by</th>\n",
       "      <th>Starring</th>\n",
       "      <th>Production companies</th>\n",
       "      <th>Country</th>\n",
       "      <th>Language</th>\n",
       "      <th>Running time (int)</th>\n",
       "      <th>Budget (float)</th>\n",
       "      <th>...</th>\n",
       "      <th>has_second_Release_time</th>\n",
       "      <th>Director_missing</th>\n",
       "      <th>Director_assist</th>\n",
       "      <th>Director_split</th>\n",
       "      <th>WrittenBy_missing</th>\n",
       "      <th>Writer_split</th>\n",
       "      <th>ProducedBy_missing</th>\n",
       "      <th>split_producedBy</th>\n",
       "      <th>Starring_missing</th>\n",
       "      <th>split_Starring</th>\n",
       "    </tr>\n",
       "  </thead>\n",
       "  <tbody>\n",
       "    <tr>\n",
       "      <th>0</th>\n",
       "      <td>My Four Years in Germany</td>\n",
       "      <td>William Nigh</td>\n",
       "      <td>Charles A. Logue</td>\n",
       "      <td>Harry Warner</td>\n",
       "      <td>Halbert Brown</td>\n",
       "      <td>['My Four Years in Germany Pictures, Inc.', 'W...</td>\n",
       "      <td>United States</td>\n",
       "      <td>Silent (English intertitles )</td>\n",
       "      <td>108.0</td>\n",
       "      <td>NaN</td>\n",
       "      <td>...</td>\n",
       "      <td>True</td>\n",
       "      <td>True</td>\n",
       "      <td>True</td>\n",
       "      <td>1</td>\n",
       "      <td>True</td>\n",
       "      <td>0</td>\n",
       "      <td>True</td>\n",
       "      <td>1</td>\n",
       "      <td>True</td>\n",
       "      <td>0</td>\n",
       "    </tr>\n",
       "    <tr>\n",
       "      <th>1</th>\n",
       "      <td>Kaiser's Finish</td>\n",
       "      <td>John Josseph Harvey</td>\n",
       "      <td>missing</td>\n",
       "      <td>Sam Warner</td>\n",
       "      <td>Earl Schenck</td>\n",
       "      <td>NaN</td>\n",
       "      <td>United States</td>\n",
       "      <td>Silent</td>\n",
       "      <td>NaN</td>\n",
       "      <td>NaN</td>\n",
       "      <td>...</td>\n",
       "      <td>False</td>\n",
       "      <td>True</td>\n",
       "      <td>False</td>\n",
       "      <td>0</td>\n",
       "      <td>False</td>\n",
       "      <td>0</td>\n",
       "      <td>True</td>\n",
       "      <td>0</td>\n",
       "      <td>True</td>\n",
       "      <td>1</td>\n",
       "    </tr>\n",
       "    <tr>\n",
       "      <th>2</th>\n",
       "      <td>Open Your Eyes</td>\n",
       "      <td>Gilbert P. Hamilton</td>\n",
       "      <td>C.B. Minty</td>\n",
       "      <td>missing</td>\n",
       "      <td>Faire Binney</td>\n",
       "      <td>['State Health Films Inc.', 'Warner Bros.']</td>\n",
       "      <td>United States</td>\n",
       "      <td>Silent (English intertitles )</td>\n",
       "      <td>70.0</td>\n",
       "      <td>NaN</td>\n",
       "      <td>...</td>\n",
       "      <td>False</td>\n",
       "      <td>True</td>\n",
       "      <td>False</td>\n",
       "      <td>0</td>\n",
       "      <td>True</td>\n",
       "      <td>1</td>\n",
       "      <td>False</td>\n",
       "      <td>0</td>\n",
       "      <td>True</td>\n",
       "      <td>2</td>\n",
       "    </tr>\n",
       "    <tr>\n",
       "      <th>3</th>\n",
       "      <td>Beware!</td>\n",
       "      <td>William Nigh</td>\n",
       "      <td>James W. Gerard</td>\n",
       "      <td>missing</td>\n",
       "      <td>Maurine Powers</td>\n",
       "      <td>NaN</td>\n",
       "      <td>United States</td>\n",
       "      <td>Silent</td>\n",
       "      <td>9.0</td>\n",
       "      <td>NaN</td>\n",
       "      <td>...</td>\n",
       "      <td>False</td>\n",
       "      <td>True</td>\n",
       "      <td>False</td>\n",
       "      <td>0</td>\n",
       "      <td>True</td>\n",
       "      <td>2</td>\n",
       "      <td>False</td>\n",
       "      <td>0</td>\n",
       "      <td>True</td>\n",
       "      <td>3</td>\n",
       "    </tr>\n",
       "    <tr>\n",
       "      <th>4</th>\n",
       "      <td>The Lost City</td>\n",
       "      <td>E.A. Martin</td>\n",
       "      <td>missing</td>\n",
       "      <td>missing</td>\n",
       "      <td>Juanita Hansen</td>\n",
       "      <td>NaN</td>\n",
       "      <td>United States</td>\n",
       "      <td>Silent</td>\n",
       "      <td>15.0</td>\n",
       "      <td>NaN</td>\n",
       "      <td>...</td>\n",
       "      <td>False</td>\n",
       "      <td>True</td>\n",
       "      <td>False</td>\n",
       "      <td>0</td>\n",
       "      <td>False</td>\n",
       "      <td>0</td>\n",
       "      <td>False</td>\n",
       "      <td>0</td>\n",
       "      <td>True</td>\n",
       "      <td>4</td>\n",
       "    </tr>\n",
       "  </tbody>\n",
       "</table>\n",
       "<p>5 rows × 27 columns</p>\n",
       "</div>"
      ],
      "text/plain": [
       "                      title          Directed by        Written by  \\\n",
       "0  My Four Years in Germany         William Nigh  Charles A. Logue   \n",
       "1           Kaiser's Finish  John Josseph Harvey           missing   \n",
       "2            Open Your Eyes  Gilbert P. Hamilton        C.B. Minty   \n",
       "3                   Beware!         William Nigh   James W. Gerard   \n",
       "4             The Lost City          E.A. Martin           missing   \n",
       "\n",
       "    Produced by        Starring  \\\n",
       "0  Harry Warner   Halbert Brown   \n",
       "1    Sam Warner    Earl Schenck   \n",
       "2       missing    Faire Binney   \n",
       "3       missing  Maurine Powers   \n",
       "4       missing  Juanita Hansen   \n",
       "\n",
       "                                Production companies        Country  \\\n",
       "0  ['My Four Years in Germany Pictures, Inc.', 'W...  United States   \n",
       "1                                                NaN  United States   \n",
       "2        ['State Health Films Inc.', 'Warner Bros.']  United States   \n",
       "3                                                NaN  United States   \n",
       "4                                                NaN  United States   \n",
       "\n",
       "                        Language  Running time (int)  Budget (float)  ...  \\\n",
       "0  Silent (English intertitles )               108.0             NaN  ...   \n",
       "1                         Silent                 NaN             NaN  ...   \n",
       "2  Silent (English intertitles )                70.0             NaN  ...   \n",
       "3                         Silent                 9.0             NaN  ...   \n",
       "4                         Silent                15.0             NaN  ...   \n",
       "\n",
       "   has_second_Release_time  Director_missing Director_assist Director_split  \\\n",
       "0                     True              True            True              1   \n",
       "1                    False              True           False              0   \n",
       "2                    False              True           False              0   \n",
       "3                    False              True           False              0   \n",
       "4                    False              True           False              0   \n",
       "\n",
       "   WrittenBy_missing  Writer_split  ProducedBy_missing  split_producedBy  \\\n",
       "0               True             0                True                 1   \n",
       "1              False             0                True                 0   \n",
       "2               True             1               False                 0   \n",
       "3               True             2               False                 0   \n",
       "4              False             0               False                 0   \n",
       "\n",
       "   Starring_missing  split_Starring  \n",
       "0              True               0  \n",
       "1              True               1  \n",
       "2              True               2  \n",
       "3              True               3  \n",
       "4              True               4  \n",
       "\n",
       "[5 rows x 27 columns]"
      ]
     },
     "execution_count": 62,
     "metadata": {},
     "output_type": "execute_result"
    }
   ],
   "source": [
    "df.head()"
   ]
  },
  {
   "cell_type": "code",
   "execution_count": 63,
   "id": "ab1b9108",
   "metadata": {},
   "outputs": [
    {
     "data": {
      "text/plain": [
       "348"
      ]
     },
     "execution_count": 63,
     "metadata": {},
     "output_type": "execute_result"
    }
   ],
   "source": [
    "df['Running time (int)'].isna().sum()"
   ]
  },
  {
   "cell_type": "code",
   "execution_count": 64,
   "id": "b094fde3",
   "metadata": {},
   "outputs": [
    {
     "data": {
      "text/plain": [
       "4933"
      ]
     },
     "execution_count": 64,
     "metadata": {},
     "output_type": "execute_result"
    }
   ],
   "source": [
    "df['Budget (float)'].isna().sum()"
   ]
  },
  {
   "cell_type": "code",
   "execution_count": 65,
   "id": "46e64eae",
   "metadata": {},
   "outputs": [
    {
     "data": {
      "text/plain": [
       "4083"
      ]
     },
     "execution_count": 65,
     "metadata": {},
     "output_type": "execute_result"
    }
   ],
   "source": [
    "df['Box office (float)'].isna().sum()"
   ]
  },
  {
   "cell_type": "code",
   "execution_count": 66,
   "id": "808a745a",
   "metadata": {},
   "outputs": [
    {
     "data": {
      "text/plain": [
       "7247"
      ]
     },
     "execution_count": 66,
     "metadata": {},
     "output_type": "execute_result"
    }
   ],
   "source": [
    "df['imdb'].isna().sum()"
   ]
  },
  {
   "cell_type": "code",
   "execution_count": 67,
   "id": "772d490b",
   "metadata": {},
   "outputs": [
    {
     "name": "stdout",
     "output_type": "stream",
     "text": [
      "[969, 1001, 2316, 2317, 2473, 3343, 3680, 3955, 4487, 4488, 4614, 5025, 5173, 6107, 6137, 7400, 7401, 7552, 8349, 8667, 8922, 9442, 9443, 9566, 9963, 10104]\n"
     ]
    }
   ],
   "source": [
    "sales_box_office =[]\n",
    "for i, con in enumerate(df['Box office (float)']):\n",
    "    if con > 5*1e7 and df['imdb'][i] > 6:\n",
    "        sales_box_office.append(i)\n",
    "print(sales_box_office)"
   ]
  },
  {
   "cell_type": "code",
   "execution_count": 68,
   "id": "6db262d6",
   "metadata": {},
   "outputs": [],
   "source": [
    "# for i in sales_box_office:\n",
    "#     print('film name: ', df['title'][i],'  ',df['Box office (float)'][i])\n",
    "    "
   ]
  },
  {
   "cell_type": "code",
   "execution_count": 69,
   "id": "9d086d42",
   "metadata": {},
   "outputs": [
    {
     "data": {
      "image/png": "[encoded data removed]",
      "text/plain": [
       "<Figure size 432x288 with 1 Axes>"
      ]
     },
     "metadata": {
      "needs_background": "light"
     },
     "output_type": "display_data"
    }
   ],
   "source": [
    "df.plot('imdb','Budget (float)', kind='scatter');"
   ]
  },
  {
   "cell_type": "code",
   "execution_count": 70,
   "id": "7a6ad1c6",
   "metadata": {},
   "outputs": [
    {
     "name": "stdout",
     "output_type": "stream",
     "text": [
      "[2316, 2317, 2473, 2773, 3680, 3740, 4487, 4488, 4614, 4850, 5173, 5215, 7400, 7401, 7552, 7838, 8667, 8721, 9442, 9443, 9566, 9793, 10104, 10145]\n"
     ]
    }
   ],
   "source": [
    "bugget =[]\n",
    "for i, con in enumerate(df['Budget (float)']):\n",
    "    if con > .1*1e8 and df['imdb'][i] > 1:\n",
    "        bugget.append(i)\n",
    "print(bugget)"
   ]
  },
  {
   "cell_type": "code",
   "execution_count": 71,
   "id": "bdb02147",
   "metadata": {},
   "outputs": [],
   "source": [
    "# for i in bugget:\n",
    "#     print('film name: ', df['title'][i],'  ',df['Budget (float)'][i])"
   ]
  },
  {
   "cell_type": "code",
   "execution_count": 72,
   "id": "c878f81a",
   "metadata": {},
   "outputs": [
    {
     "data": {
      "text/plain": [
       "0    ['My Four Years in Germany Pictures, Inc.', 'W...\n",
       "1                                                  NaN\n",
       "2          ['State Health Films Inc.', 'Warner Bros.']\n",
       "3                                                  NaN\n",
       "4                                                  NaN\n",
       "Name: Production companies, dtype: object"
      ]
     },
     "execution_count": 72,
     "metadata": {},
     "output_type": "execute_result"
    }
   ],
   "source": [
    "df['Production companies'].head()"
   ]
  },
  {
   "cell_type": "code",
   "execution_count": 73,
   "id": "4f74e51b",
   "metadata": {
    "scrolled": true
   },
   "outputs": [
    {
     "data": {
      "text/plain": [
       "0                        NaN\n",
       "1      Warner Bros. Pictures\n",
       "2                        NaN\n",
       "3               Warner Bros.\n",
       "4    Selig Polyscope Company\n",
       "Name: Production company, dtype: object"
      ]
     },
     "execution_count": 73,
     "metadata": {},
     "output_type": "execute_result"
    }
   ],
   "source": [
    "df['Production company'].head()"
   ]
  },
  {
   "cell_type": "code",
   "execution_count": 74,
   "id": "0bfd177c",
   "metadata": {},
   "outputs": [
    {
     "data": {
      "text/plain": [
       "5823"
      ]
     },
     "execution_count": 74,
     "metadata": {},
     "output_type": "execute_result"
    }
   ],
   "source": [
    "df['Production company'].isna().sum()"
   ]
  },
  {
   "cell_type": "code",
   "execution_count": 75,
   "id": "595182a9",
   "metadata": {},
   "outputs": [
    {
     "data": {
      "text/plain": [
       "(10175, 27)"
      ]
     },
     "execution_count": 75,
     "metadata": {},
     "output_type": "execute_result"
    }
   ],
   "source": [
    "df.shape"
   ]
  },
  {
   "cell_type": "code",
   "execution_count": 76,
   "id": "5eedc08a",
   "metadata": {},
   "outputs": [],
   "source": [
    "df = pd.read_csv('clean_data_till_starring.csv')"
   ]
  },
  {
   "cell_type": "code",
   "execution_count": 77,
   "id": "d760ba58",
   "metadata": {},
   "outputs": [
    {
     "name": "stderr",
     "output_type": "stream",
     "text": [
      "<ipython-input-77-dc1b0804388f>:8: SettingWithCopyWarning: \n",
      "A value is trying to be set on a copy of a slice from a DataFrame\n",
      "\n",
      "See the caveats in the documentation: https://pandas.pydata.org/pandas-docs/stable/user_guide/indexing.html#returning-a-view-versus-a-copy\n",
      "  df['Production_companies'][i] = True\n",
      "<ipython-input-77-dc1b0804388f>:13: SettingWithCopyWarning: \n",
      "A value is trying to be set on a copy of a slice from a DataFrame\n",
      "\n",
      "See the caveats in the documentation: https://pandas.pydata.org/pandas-docs/stable/user_guide/indexing.html#returning-a-view-versus-a-copy\n",
      "  df['Production company'][i] = split_companies\n"
     ]
    }
   ],
   "source": [
    "# merge Production company and Production companies\n",
    "df['Production_companies'] = False\n",
    "\n",
    "\n",
    "for i, con in enumerate(df['Production companies']):\n",
    "    if not pd.isnull(con):\n",
    "        con = con.replace('\"', \"'\")\n",
    "        df['Production_companies'][i] = True\n",
    "        split_companies = con.split(\"', '\")\n",
    "        split_companies = split_companies[0].replace(\"['\",\"\")\n",
    "        split_companies = split_companies.replace(\"']\",\"\")\n",
    "        if pd.isnull(df['Production company'][i]):   \n",
    "            df['Production company'][i] = split_companies\n",
    "            #print(split_companies, i)\n",
    "        else:\n",
    "            pass\n",
    "            #print('Production company in not null: ', df['Production company'][i], i)\n",
    "    else:\n",
    "        pass\n",
    "        #print('nan', i)\n"
   ]
  },
  {
   "cell_type": "code",
   "execution_count": 78,
   "id": "e21e64bc",
   "metadata": {},
   "outputs": [],
   "source": [
    "# remove the Production companies column\n",
    "\n",
    "df.drop('Production companies', axis=1, inplace=True)"
   ]
  },
  {
   "cell_type": "code",
   "execution_count": 79,
   "id": "ffcd9bbc",
   "metadata": {},
   "outputs": [],
   "source": [
    "#df.columns"
   ]
  },
  {
   "cell_type": "code",
   "execution_count": 80,
   "id": "13a9e654",
   "metadata": {},
   "outputs": [
    {
     "name": "stderr",
     "output_type": "stream",
     "text": [
      "<ipython-input-80-c373d8fb77e5>:13: SettingWithCopyWarning: \n",
      "A value is trying to be set on a copy of a slice from a DataFrame\n",
      "\n",
      "See the caveats in the documentation: https://pandas.pydata.org/pandas-docs/stable/user_guide/indexing.html#returning-a-view-versus-a-copy\n",
      "  df['Production_company_missing'][i]=True\n"
     ]
    }
   ],
   "source": [
    "df['Production_company_missing'] = False\n",
    "def fill_missing(x):\n",
    "    if pd.isnull(x):\n",
    "        return 'missing'\n",
    "    else:\n",
    "        return x\n",
    "\n",
    "df['Production company'] = df['Production company'].apply(lambda x: fill_missing(x))\n",
    "\n",
    "\n",
    "for i, con in enumerate (df['Production company']):\n",
    "    if con == 'missing':\n",
    "        df['Production_company_missing'][i]=True\n",
    "        "
   ]
  },
  {
   "cell_type": "code",
   "execution_count": 81,
   "id": "b9a0e876",
   "metadata": {},
   "outputs": [
    {
     "name": "stderr",
     "output_type": "stream",
     "text": [
      "<ipython-input-81-0b92d65a61b5>:8: SettingWithCopyWarning: \n",
      "A value is trying to be set on a copy of a slice from a DataFrame\n",
      "\n",
      "See the caveats in the documentation: https://pandas.pydata.org/pandas-docs/stable/user_guide/indexing.html#returning-a-view-versus-a-copy\n",
      "  df['several_languages'][i] = True\n",
      "<ipython-input-81-0b92d65a61b5>:13: SettingWithCopyWarning: \n",
      "A value is trying to be set on a copy of a slice from a DataFrame\n",
      "\n",
      "See the caveats in the documentation: https://pandas.pydata.org/pandas-docs/stable/user_guide/indexing.html#returning-a-view-versus-a-copy\n",
      "  df['Language'][i] = split_language\n"
     ]
    }
   ],
   "source": [
    "# merge Language and languages\n",
    "df['several_languages'] = False\n",
    "\n",
    "\n",
    "for i, con in enumerate(df['Languages']):\n",
    "    if not pd.isnull(con):\n",
    "        con = con.replace('\"', \"'\")\n",
    "        df['several_languages'][i] = True\n",
    "        split_language = con.split(\"', '\")\n",
    "        split_language = split_language[0].replace(\"['\",\"\")\n",
    "        split_language = split_language.replace(\"']\",\"\")\n",
    "        if pd.isnull(df['Language'][i]):   \n",
    "            df['Language'][i] = split_language\n",
    "            #print(split_language, i)\n",
    "        else:\n",
    "            pass\n",
    "            #print('Language in not null: ', df['Language'][i], i)\n",
    "    else:\n",
    "        pass\n",
    "        #print('nan', i"
   ]
  },
  {
   "cell_type": "code",
   "execution_count": 82,
   "id": "074936fe",
   "metadata": {},
   "outputs": [
    {
     "name": "stderr",
     "output_type": "stream",
     "text": [
      "<ipython-input-82-6fa1baa8c671>:16: SettingWithCopyWarning: \n",
      "A value is trying to be set on a copy of a slice from a DataFrame\n",
      "\n",
      "See the caveats in the documentation: https://pandas.pydata.org/pandas-docs/stable/user_guide/indexing.html#returning-a-view-versus-a-copy\n",
      "  df['Language_missing'][i]=True\n"
     ]
    }
   ],
   "source": [
    "# fill missing data in Language column\n",
    "\n",
    "df['Language_missing'] = False\n",
    "\n",
    "def fill_missing(x):\n",
    "    if pd.isnull(x):\n",
    "        return 'missing'\n",
    "    else:\n",
    "        return x\n",
    "\n",
    "df['Language'] = df['Language'].apply(lambda x: fill_missing(x))\n",
    "\n",
    "\n",
    "for i, con in enumerate (df['Language']):\n",
    "    if con == 'missing':\n",
    "        df['Language_missing'][i]=True"
   ]
  },
  {
   "cell_type": "code",
   "execution_count": 83,
   "id": "f1833b93",
   "metadata": {},
   "outputs": [],
   "source": [
    "# remove the Languages column\n",
    "\n",
    "df.drop('Languages', axis=1, inplace=True)"
   ]
  },
  {
   "cell_type": "code",
   "execution_count": 84,
   "id": "08d2eca6",
   "metadata": {},
   "outputs": [],
   "source": [
    "df.to_csv('clean_data_till_language.csv', index=False)"
   ]
  },
  {
   "cell_type": "code",
   "execution_count": 85,
   "id": "e812d937",
   "metadata": {},
   "outputs": [],
   "source": [
    "df = pd.read_csv('clean_data_till_language.csv')"
   ]
  },
  {
   "cell_type": "code",
   "execution_count": 86,
   "id": "223f04b1",
   "metadata": {},
   "outputs": [
    {
     "data": {
      "text/html": [
       "<div>\n",
       "<style scoped>\n",
       "    .dataframe tbody tr th:only-of-type {\n",
       "        vertical-align: middle;\n",
       "    }\n",
       "\n",
       "    .dataframe tbody tr th {\n",
       "        vertical-align: top;\n",
       "    }\n",
       "\n",
       "    .dataframe thead th {\n",
       "        text-align: right;\n",
       "    }\n",
       "</style>\n",
       "<table border=\"1\" class=\"dataframe\">\n",
       "  <thead>\n",
       "    <tr style=\"text-align: right;\">\n",
       "      <th></th>\n",
       "      <th>title</th>\n",
       "      <th>Directed by</th>\n",
       "      <th>Written by</th>\n",
       "      <th>Produced by</th>\n",
       "      <th>Starring</th>\n",
       "      <th>Country</th>\n",
       "      <th>Language</th>\n",
       "      <th>Running time (int)</th>\n",
       "      <th>Budget (float)</th>\n",
       "      <th>Box office (float)</th>\n",
       "      <th>...</th>\n",
       "      <th>WrittenBy_missing</th>\n",
       "      <th>Writer_split</th>\n",
       "      <th>ProducedBy_missing</th>\n",
       "      <th>split_producedBy</th>\n",
       "      <th>Starring_missing</th>\n",
       "      <th>split_Starring</th>\n",
       "      <th>Production_companies</th>\n",
       "      <th>Production_company_missing</th>\n",
       "      <th>several_languages</th>\n",
       "      <th>Language_missing</th>\n",
       "    </tr>\n",
       "  </thead>\n",
       "  <tbody>\n",
       "    <tr>\n",
       "      <th>0</th>\n",
       "      <td>My Four Years in Germany</td>\n",
       "      <td>William Nigh</td>\n",
       "      <td>Charles A. Logue</td>\n",
       "      <td>Harry Warner</td>\n",
       "      <td>Halbert Brown</td>\n",
       "      <td>United States</td>\n",
       "      <td>Silent (English intertitles )</td>\n",
       "      <td>108.0</td>\n",
       "      <td>NaN</td>\n",
       "      <td>NaN</td>\n",
       "      <td>...</td>\n",
       "      <td>True</td>\n",
       "      <td>0</td>\n",
       "      <td>True</td>\n",
       "      <td>1</td>\n",
       "      <td>True</td>\n",
       "      <td>0</td>\n",
       "      <td>True</td>\n",
       "      <td>False</td>\n",
       "      <td>False</td>\n",
       "      <td>False</td>\n",
       "    </tr>\n",
       "    <tr>\n",
       "      <th>1</th>\n",
       "      <td>Kaiser's Finish</td>\n",
       "      <td>John Josseph Harvey</td>\n",
       "      <td>missing</td>\n",
       "      <td>Sam Warner</td>\n",
       "      <td>Earl Schenck</td>\n",
       "      <td>United States</td>\n",
       "      <td>Silent</td>\n",
       "      <td>NaN</td>\n",
       "      <td>NaN</td>\n",
       "      <td>NaN</td>\n",
       "      <td>...</td>\n",
       "      <td>False</td>\n",
       "      <td>0</td>\n",
       "      <td>True</td>\n",
       "      <td>0</td>\n",
       "      <td>True</td>\n",
       "      <td>1</td>\n",
       "      <td>False</td>\n",
       "      <td>False</td>\n",
       "      <td>False</td>\n",
       "      <td>False</td>\n",
       "    </tr>\n",
       "    <tr>\n",
       "      <th>2</th>\n",
       "      <td>Open Your Eyes</td>\n",
       "      <td>Gilbert P. Hamilton</td>\n",
       "      <td>C.B. Minty</td>\n",
       "      <td>missing</td>\n",
       "      <td>Faire Binney</td>\n",
       "      <td>United States</td>\n",
       "      <td>Silent (English intertitles )</td>\n",
       "      <td>70.0</td>\n",
       "      <td>NaN</td>\n",
       "      <td>NaN</td>\n",
       "      <td>...</td>\n",
       "      <td>True</td>\n",
       "      <td>1</td>\n",
       "      <td>False</td>\n",
       "      <td>0</td>\n",
       "      <td>True</td>\n",
       "      <td>2</td>\n",
       "      <td>True</td>\n",
       "      <td>False</td>\n",
       "      <td>False</td>\n",
       "      <td>False</td>\n",
       "    </tr>\n",
       "    <tr>\n",
       "      <th>3</th>\n",
       "      <td>Beware!</td>\n",
       "      <td>William Nigh</td>\n",
       "      <td>James W. Gerard</td>\n",
       "      <td>missing</td>\n",
       "      <td>Maurine Powers</td>\n",
       "      <td>United States</td>\n",
       "      <td>Silent</td>\n",
       "      <td>9.0</td>\n",
       "      <td>NaN</td>\n",
       "      <td>NaN</td>\n",
       "      <td>...</td>\n",
       "      <td>True</td>\n",
       "      <td>2</td>\n",
       "      <td>False</td>\n",
       "      <td>0</td>\n",
       "      <td>True</td>\n",
       "      <td>3</td>\n",
       "      <td>False</td>\n",
       "      <td>False</td>\n",
       "      <td>False</td>\n",
       "      <td>False</td>\n",
       "    </tr>\n",
       "    <tr>\n",
       "      <th>4</th>\n",
       "      <td>The Lost City</td>\n",
       "      <td>E.A. Martin</td>\n",
       "      <td>missing</td>\n",
       "      <td>missing</td>\n",
       "      <td>Juanita Hansen</td>\n",
       "      <td>United States</td>\n",
       "      <td>Silent</td>\n",
       "      <td>15.0</td>\n",
       "      <td>NaN</td>\n",
       "      <td>NaN</td>\n",
       "      <td>...</td>\n",
       "      <td>False</td>\n",
       "      <td>0</td>\n",
       "      <td>False</td>\n",
       "      <td>0</td>\n",
       "      <td>True</td>\n",
       "      <td>4</td>\n",
       "      <td>False</td>\n",
       "      <td>False</td>\n",
       "      <td>False</td>\n",
       "      <td>False</td>\n",
       "    </tr>\n",
       "  </tbody>\n",
       "</table>\n",
       "<p>5 rows × 29 columns</p>\n",
       "</div>"
      ],
      "text/plain": [
       "                      title          Directed by        Written by  \\\n",
       "0  My Four Years in Germany         William Nigh  Charles A. Logue   \n",
       "1           Kaiser's Finish  John Josseph Harvey           missing   \n",
       "2            Open Your Eyes  Gilbert P. Hamilton        C.B. Minty   \n",
       "3                   Beware!         William Nigh   James W. Gerard   \n",
       "4             The Lost City          E.A. Martin           missing   \n",
       "\n",
       "    Produced by        Starring        Country                       Language  \\\n",
       "0  Harry Warner   Halbert Brown  United States  Silent (English intertitles )   \n",
       "1    Sam Warner    Earl Schenck  United States                         Silent   \n",
       "2       missing    Faire Binney  United States  Silent (English intertitles )   \n",
       "3       missing  Maurine Powers  United States                         Silent   \n",
       "4       missing  Juanita Hansen  United States                         Silent   \n",
       "\n",
       "   Running time (int)  Budget (float)  Box office (float)  ...  \\\n",
       "0               108.0             NaN                 NaN  ...   \n",
       "1                 NaN             NaN                 NaN  ...   \n",
       "2                70.0             NaN                 NaN  ...   \n",
       "3                 9.0             NaN                 NaN  ...   \n",
       "4                15.0             NaN                 NaN  ...   \n",
       "\n",
       "   WrittenBy_missing Writer_split  ProducedBy_missing  split_producedBy  \\\n",
       "0               True            0                True                 1   \n",
       "1              False            0                True                 0   \n",
       "2               True            1               False                 0   \n",
       "3               True            2               False                 0   \n",
       "4              False            0               False                 0   \n",
       "\n",
       "   Starring_missing  split_Starring  Production_companies  \\\n",
       "0              True               0                  True   \n",
       "1              True               1                 False   \n",
       "2              True               2                  True   \n",
       "3              True               3                 False   \n",
       "4              True               4                 False   \n",
       "\n",
       "   Production_company_missing  several_languages  Language_missing  \n",
       "0                       False              False             False  \n",
       "1                       False              False             False  \n",
       "2                       False              False             False  \n",
       "3                       False              False             False  \n",
       "4                       False              False             False  \n",
       "\n",
       "[5 rows x 29 columns]"
      ]
     },
     "execution_count": 86,
     "metadata": {},
     "output_type": "execute_result"
    }
   ],
   "source": [
    "df.head()"
   ]
  },
  {
   "cell_type": "code",
   "execution_count": 87,
   "id": "ecb24bcc",
   "metadata": {},
   "outputs": [
    {
     "name": "stderr",
     "output_type": "stream",
     "text": [
      "<ipython-input-87-a893940cc36a>:6: SettingWithCopyWarning: \n",
      "A value is trying to be set on a copy of a slice from a DataFrame\n",
      "\n",
      "See the caveats in the documentation: https://pandas.pydata.org/pandas-docs/stable/user_guide/indexing.html#returning-a-view-versus-a-copy\n",
      "  df['Running_time_missing'][i] = True\n",
      "<ipython-input-87-a893940cc36a>:7: SettingWithCopyWarning: \n",
      "A value is trying to be set on a copy of a slice from a DataFrame\n",
      "\n",
      "See the caveats in the documentation: https://pandas.pydata.org/pandas-docs/stable/user_guide/indexing.html#returning-a-view-versus-a-copy\n",
      "  df['Running time (int)'][i] = df['Running time (int)'].median()\n"
     ]
    }
   ],
   "source": [
    "# filling run time column\n",
    "df['Running_time_missing'] = False\n",
    "\n",
    "for i, con in enumerate (df['Running time (int)']):\n",
    "    if pd.isnull(con):\n",
    "        df['Running_time_missing'][i] = True\n",
    "        df['Running time (int)'][i] = df['Running time (int)'].median()\n",
    "        #print(i)\n",
    "    else:\n",
    "        pass"
   ]
  },
  {
   "cell_type": "code",
   "execution_count": 88,
   "id": "193f60e6",
   "metadata": {},
   "outputs": [],
   "source": [
    "# filling Buget row using avrage price that need for each make a min of film \n",
    "\n",
    "def avrage_cost(cost, start_year, end_year ):\n",
    "    all_costs = []\n",
    "    for i , con in enumerate(df['Year_release']):\n",
    "        if (df['Year_release'].min()+start_year) <= con <= (df['Year_release'].min()+ end_year):\n",
    "            if not pd.isna(cost[i]):\n",
    "                all_costs.append(cost[i])\n",
    "    #print(all_costs, np.mean(all_costs) )\n",
    "    return round(np.mean(all_costs))\n",
    "\n",
    "def avarage_time(minOfMovie, start_year, end_year):\n",
    "    all_times = []\n",
    "    for i , con in enumerate(df['Year_release']):\n",
    "            if (df['Year_release'].min()+start_year) <= con <= (df['Year_release'].min()+ end_year):\n",
    "                 all_times.append(minOfMovie[i])\n",
    "    #print(all_times, np.mean(all_times))\n",
    "    return round(np.mean(all_times))\n",
    "\n",
    "\n",
    "def fill_missing_money(x, minOfMovie, missing):\n",
    "    for i in range(0, (df['Year_release'].max()-df['Year_release'].min()), 10):\n",
    "        avrage = avrage_cost(x, i, i+10) // avarage_time(minOfMovie, i, i+10)\n",
    "        for j, con in enumerate(minOfMovie):\n",
    "            if (df['Year_release'].min()+i) <= (df['Year_release'][j]) <= (df['Year_release'].min()+(i+10)):\n",
    "                if pd.isnull(x[j]):\n",
    "                    missing[i] = True\n",
    "                    x[j] = avrage * con\n",
    "                    #print(j, x[j], avrage, con, df['Year_release'][j])\n",
    "                else:\n",
    "                    pass\n",
    "            else:\n",
    "                pass"
   ]
  },
  {
   "cell_type": "code",
   "execution_count": 89,
   "id": "09461368",
   "metadata": {
    "scrolled": true
   },
   "outputs": [
    {
     "name": "stderr",
     "output_type": "stream",
     "text": [
      "<ipython-input-88-55c3da02f39e>:29: SettingWithCopyWarning: \n",
      "A value is trying to be set on a copy of a slice from a DataFrame\n",
      "\n",
      "See the caveats in the documentation: https://pandas.pydata.org/pandas-docs/stable/user_guide/indexing.html#returning-a-view-versus-a-copy\n",
      "  missing[i] = True\n",
      "<ipython-input-88-55c3da02f39e>:30: SettingWithCopyWarning: \n",
      "A value is trying to be set on a copy of a slice from a DataFrame\n",
      "\n",
      "See the caveats in the documentation: https://pandas.pydata.org/pandas-docs/stable/user_guide/indexing.html#returning-a-view-versus-a-copy\n",
      "  x[j] = avrage * con\n"
     ]
    }
   ],
   "source": [
    "df['Budget_missing'] = False\n",
    "fill_missing_money(df['Budget (float)'], df['Running time (int)'], df['Budget_missing'])"
   ]
  },
  {
   "cell_type": "code",
   "execution_count": 90,
   "id": "2a9ed5c6",
   "metadata": {},
   "outputs": [
    {
     "name": "stderr",
     "output_type": "stream",
     "text": [
      "<ipython-input-88-55c3da02f39e>:29: SettingWithCopyWarning: \n",
      "A value is trying to be set on a copy of a slice from a DataFrame\n",
      "\n",
      "See the caveats in the documentation: https://pandas.pydata.org/pandas-docs/stable/user_guide/indexing.html#returning-a-view-versus-a-copy\n",
      "  missing[i] = True\n",
      "<ipython-input-88-55c3da02f39e>:30: SettingWithCopyWarning: \n",
      "A value is trying to be set on a copy of a slice from a DataFrame\n",
      "\n",
      "See the caveats in the documentation: https://pandas.pydata.org/pandas-docs/stable/user_guide/indexing.html#returning-a-view-versus-a-copy\n",
      "  x[j] = avrage * con\n"
     ]
    }
   ],
   "source": [
    "df['boxOffice_missing'] = False\n",
    "fill_missing_money(df['Box office (float)'], df['Running time (int)'], df['boxOffice_missing'])"
   ]
  },
  {
   "cell_type": "code",
   "execution_count": 91,
   "id": "f657f359",
   "metadata": {
    "scrolled": true
   },
   "outputs": [
    {
     "name": "stderr",
     "output_type": "stream",
     "text": [
      "<ipython-input-91-c6ed9fc7b492>:4: SettingWithCopyWarning: \n",
      "A value is trying to be set on a copy of a slice from a DataFrame\n",
      "\n",
      "See the caveats in the documentation: https://pandas.pydata.org/pandas-docs/stable/user_guide/indexing.html#returning-a-view-versus-a-copy\n",
      "  df['imdb_missing'][i] = True\n",
      "<ipython-input-91-c6ed9fc7b492>:5: SettingWithCopyWarning: \n",
      "A value is trying to be set on a copy of a slice from a DataFrame\n",
      "\n",
      "See the caveats in the documentation: https://pandas.pydata.org/pandas-docs/stable/user_guide/indexing.html#returning-a-view-versus-a-copy\n",
      "  df['imdb'][i] = df['imdb'].median()\n"
     ]
    }
   ],
   "source": [
    "# clean and fill imbd data\n",
    "df['imdb_missing'] = False\n",
    "for i, con in enumerate(df['imdb']):\n",
    "    if pd.isna(con):\n",
    "        df['imdb_missing'][i] = True\n",
    "        df['imdb'][i] = df['imdb'].median() \n",
    "      "
   ]
  },
  {
   "cell_type": "code",
   "execution_count": 92,
   "id": "01288985",
   "metadata": {},
   "outputs": [
    {
     "data": {
      "text/plain": [
       "6.3"
      ]
     },
     "execution_count": 92,
     "metadata": {},
     "output_type": "execute_result"
    }
   ],
   "source": [
    "df['imdb'].median() "
   ]
  },
  {
   "cell_type": "code",
   "execution_count": 93,
   "id": "9500afba",
   "metadata": {},
   "outputs": [],
   "source": [
    "df.to_csv('cleaned_data.csv', index=False)"
   ]
  }
 ],
 "metadata": {
  "kernelspec": {
   "display_name": "Python 3",
   "language": "python",
   "name": "python3"
  },
  "language_info": {
   "codemirror_mode": {
    "name": "ipython",
    "version": 3
   },
   "file_extension": ".py",
   "mimetype": "text/x-python",
   "name": "python",
   "nbconvert_exporter": "python",
   "pygments_lexer": "ipython3",
   "version": "3.8.8"
  }
 },
 "nbformat": 4,
 "nbformat_minor": 5
}
